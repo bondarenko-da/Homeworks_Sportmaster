{
 "cells": [
  {
   "cell_type": "markdown",
   "metadata": {},
   "source": [
    "**Задание 1.** Напишите функцию, которая принимает на вход строку и проверяет является ли она валидным транспортным номером. Если да, то функция должна возвращать отдельно номер и регион."
   ]
  },
  {
   "cell_type": "code",
   "execution_count": 226,
   "metadata": {},
   "outputs": [
    {
     "name": "stdout",
     "output_type": "stream",
     "text": [
      "The number м158но777 is a valid number\n",
      "Номер: ['м158но']\n",
      "Регион: ['777']\n"
     ]
    }
   ],
   "source": [
    "def tr_num_valid(num):\n",
    "    import re\n",
    "    regex_num = '[а-я]{1}[\\d]{3}[а-я]{2}[\\d]{2,3}$'\n",
    "    if re.match(regex_num, num):\n",
    "        print('The number {} is a valid number'.format(num))\n",
    "        num_ = '([а-я]{1}[\\d]{3}[а-я]{2})'\n",
    "        reg = '(?<=[а-я]{1}[\\d]{3}[а-я]{2})\\d*'\n",
    "        res_num_ = re.findall(num_, num)\n",
    "        res_reg = re.findall(reg, num)\n",
    "        print('Номер:', res_num_)\n",
    "        print('Регион:', res_reg)\n",
    "    else:\n",
    "        print('The number {} is invalid'.format(num))\n",
    "    return    \n",
    "\n",
    "str1 = 'м158но777'\n",
    "tr_num_valid(str1)"
   ]
  },
  {
   "cell_type": "markdown",
   "metadata": {},
   "source": [
    "**Задание 2**. Напишите функцию, которая проверяет e-mail адрес на валидность по стандарту RFC822: http://www.w3.org/Protocols/rfc822/. Для этого постарайтесь написать (в крайнем случае найти) самый полный шаблон для проверки e-mail адресов через регулярное выражение. Разберитесь и напишите примеры, какие ваш шаблон может не охватить."
   ]
  },
  {
   "cell_type": "code",
   "execution_count": 227,
   "metadata": {},
   "outputs": [
    {
     "name": "stdout",
     "output_type": "stream",
     "text": [
      "The number aaa@mm.mru is a valid number\n"
     ]
    }
   ],
   "source": [
    "def email_valid(email):\n",
    "    import re\n",
    "    reg_email = '^\\w+@\\w+\\.[a-zA-Z]+$'\n",
    "    if re.search(reg_email , email):\n",
    "        print('The number {} is a valid number'.format(email))\n",
    "    else:\n",
    "        print('The number {} is invalid'.format(email))\n",
    "\n",
    "email = 'aaa@mm.mru'\n",
    "email_valid(email)\n"
   ]
  },
  {
   "cell_type": "markdown",
   "metadata": {},
   "source": [
    "**Задание 3.** Напишите функцию, которая будет удалять все последовательные повторы слов из заданной строки при помощи регулярных выражений."
   ]
  },
  {
   "cell_type": "code",
   "execution_count": 228,
   "metadata": {},
   "outputs": [
    {
     "name": "stdout",
     "output_type": "stream",
     "text": [
      "Вау аум\n"
     ]
    }
   ],
   "source": [
    "def rep_del(string):\n",
    "    import re\n",
    "    return print(re.sub('\\\\b(\\\\w+)(\\\\b\\\\W+\\\\b\\\\1\\\\b)*',r'\\1', string, flags=re.I))\n",
    "\n",
    "s = 'Вау вау аум аум аум Аум'\n",
    "rep_del(s)"
   ]
  },
  {
   "cell_type": "raw",
   "metadata": {},
   "source": [
    "# **Задание 4**. Напишите функцию, которая будет проверять номер сотового телефона на валидность, если он валиден, то переводить его в формат:   \n",
    "+7(xxx)-xxx-xx-xx  \n",
    "Постарайтесь предусмотреть как можно больше адекватных форматов изначального ввода номера.\n",
    "Примеры валидных форматов:\n",
    "- +7 955 555-55-55;\n",
    "- 9555555555;\n",
    "- 8(955)555-55-55;\n",
    "- +7 955 555 55 55;\n",
    "- 7(955) 555-55-55;\n",
    "- +7 955+555+55+55."
   ]
  },
  {
   "cell_type": "code",
   "execution_count": 230,
   "metadata": {},
   "outputs": [
    {
     "name": "stdout",
     "output_type": "stream",
     "text": [
      "The number 95555555-55 is a valid number\n",
      "+7(955)-555-55-55\n"
     ]
    }
   ],
   "source": [
    "def phone_valid_format(tel):\n",
    "    import re\n",
    "    regexp_tel = '^(8|\\+7|7| )?([\\(\\-\\+ ])?([\\d]{3})([\\)\\-\\+ ])?([\\d]{3})([\\-\\+ ])?([\\d]{2})([\\-\\+ ])?([\\d]{2})$'\n",
    "    s = ''\n",
    "    if re.search(regexp_tel, tel):\n",
    "        print('The number {} is a valid number'.format(tel))\n",
    "        stand = re.findall('\\d', tel)\n",
    "        for i in stand:\n",
    "            s += i\n",
    "        if len(s) == 11:\n",
    "            print(f'+7({s[1:4]})-{s[4:7]}-{s[7:9]}-{s[9:11]}')\n",
    "        else:\n",
    "            print(f'+7({s[0:3]})-{s[3:6]}-{s[6:8]}-{s[8:10]}')\n",
    "    else:\n",
    "        print('The number {} is invalid'.format(tel))\n",
    "    return\n",
    "tel = '95555555-55'\n",
    "phone_valid_format(tel)"
   ]
  },
  {
   "cell_type": "code",
   "execution_count": null,
   "metadata": {},
   "outputs": [],
   "source": []
  }
 ],
 "metadata": {
  "kernelspec": {
   "display_name": "Python 3",
   "language": "python",
   "name": "python3"
  },
  "language_info": {
   "codemirror_mode": {
    "name": "ipython",
    "version": 3
   },
   "file_extension": ".py",
   "mimetype": "text/x-python",
   "name": "python",
   "nbconvert_exporter": "python",
   "pygments_lexer": "ipython3",
   "version": "3.7.4"
  }
 },
 "nbformat": 4,
 "nbformat_minor": 2
}
